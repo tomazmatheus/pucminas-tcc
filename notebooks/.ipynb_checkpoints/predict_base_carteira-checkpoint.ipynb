{
 "cells": [
  {
   "cell_type": "code",
   "execution_count": 11,
   "metadata": {},
   "outputs": [],
   "source": [
    "import pandas as pd\n",
    "import numpy as np\n",
    "#import data_quality \n",
    "#import qgrid\n",
    "import ipywidgets as widgets\n",
    "from datetime import datetime\n",
    "from datetime import timedelta\n",
    "from ipywidgets import interact\n",
    "from IPython.display import display\n",
    "from ipywidgets import Checkbox\n",
    "import string\n",
    "import re\n",
    "from pyathena import connect\n",
    "import math\n",
    "import pyhdb\n",
    "\n",
    "#removendo warnings \n",
    "import warnings\n",
    "warnings.filterwarnings('ignore')"
   ]
  },
  {
   "cell_type": "code",
   "execution_count": 806,
   "metadata": {},
   "outputs": [
    {
     "data": {
      "text/plain": [
       "(41145, 40)"
      ]
     },
     "execution_count": 806,
     "metadata": {},
     "output_type": "execute_result"
    }
   ],
   "source": [
    "## recebendo dados\n",
    "base_carteira = df = pd.read_csv(\"bases/base_carteira2.csv\")\n",
    "#base_carteira =  pd.read_csv(\"bases/base_vendas_abril.csv\")\n",
    "\n",
    "base_carteira = base_carteira.rename(columns={'Unnamed: 0':\"index\"})\n",
    "base_carteira = base_carteira.drop(columns=[\"index\"])\n",
    "\n",
    "#removendo valores faltantes\n",
    "base_carteira = base_carteira.fillna(0)\n",
    "base_carteira.shape"
   ]
  },
  {
   "cell_type": "code",
   "execution_count": 807,
   "metadata": {},
   "outputs": [
    {
     "data": {
      "text/plain": [
       "(41145, 40)"
      ]
     },
     "execution_count": 807,
     "metadata": {},
     "output_type": "execute_result"
    }
   ],
   "source": [
    "#removendo duplicados\n",
    "base_carteira = base_carteira.drop_duplicates()\n",
    "base_carteira.shape"
   ]
  },
  {
   "cell_type": "code",
   "execution_count": 808,
   "metadata": {},
   "outputs": [],
   "source": [
    "new_df_2 = base_carteira[['CENTRO', 'MATERIAL', 'ZD01', 'ZD02', 'ZD03', 'ZD05', 'ZD13', 'ZD14', 'ZEB1', 'ZERG', 'ZP01']]\n",
    "#df_target = new_df[['TARGET']]\n",
    "base_carteira_rentab = base_carteira"
   ]
  },
  {
   "cell_type": "markdown",
   "metadata": {},
   "source": [
    "### 3. Importando Modelo"
   ]
  },
  {
   "cell_type": "code",
   "execution_count": 809,
   "metadata": {},
   "outputs": [],
   "source": [
    "import pickle\n",
    "\n",
    "model_name = 'model_decision_tree.pkl'\n",
    "\n",
    "#importando modelo\n",
    "loaded_model = pickle.load(open(model_name, 'rb'))\n",
    "\n",
    "# realizando predicao\n",
    "#iDT_predictions_total = loaded_model.predict(new_df_2)"
   ]
  },
  {
   "cell_type": "markdown",
   "metadata": {},
   "source": [
    "#### 3.1 Realizando Predicao"
   ]
  },
  {
   "cell_type": "code",
   "execution_count": 810,
   "metadata": {},
   "outputs": [],
   "source": [
    "# realizando predicao\n",
    "DT_predictions_total = loaded_model.predict(new_df_2)\n",
    "\n",
    "# get probabilidades\n",
    "DT_prob_total = loaded_model.predict_proba(new_df_2)"
   ]
  },
  {
   "cell_type": "code",
   "execution_count": 811,
   "metadata": {},
   "outputs": [],
   "source": [
    "#adicionando coluna com o valor predito\n",
    "base_carteira_rentab['predict'] = DT_predictions_total\n",
    "\n",
    "#adicionando coluna com a porcentagem da rentabilidade ser positiva\n",
    "base_carteira_rentab['prob_0'] = DT_prob_total[:,0]\n",
    "#adicionando coluna com a porcentagem da rentabilidade ser negativa\n",
    "base_carteira_rentab['prob_1'] = DT_prob_total[:,1]"
   ]
  },
  {
   "cell_type": "code",
   "execution_count": 812,
   "metadata": {},
   "outputs": [
    {
     "data": {
      "text/html": [
       "<div>\n",
       "<style scoped>\n",
       "    .dataframe tbody tr th:only-of-type {\n",
       "        vertical-align: middle;\n",
       "    }\n",
       "\n",
       "    .dataframe tbody tr th {\n",
       "        vertical-align: top;\n",
       "    }\n",
       "\n",
       "    .dataframe thead th {\n",
       "        text-align: right;\n",
       "    }\n",
       "</style>\n",
       "<table border=\"1\" class=\"dataframe\">\n",
       "  <thead>\n",
       "    <tr style=\"text-align: right;\">\n",
       "      <th></th>\n",
       "      <th>EMPRESA</th>\n",
       "      <th>CENTRO</th>\n",
       "      <th>COND</th>\n",
       "      <th>ITMOV</th>\n",
       "      <th>ORDEM_VENDA</th>\n",
       "      <th>DATA_CADASTRO</th>\n",
       "      <th>FAT_CRIADOPOR</th>\n",
       "      <th>HORA</th>\n",
       "      <th>TIPO_OV</th>\n",
       "      <th>VAL_LIQ</th>\n",
       "      <th>...</th>\n",
       "      <th>ZD03</th>\n",
       "      <th>ZD05</th>\n",
       "      <th>ZD13</th>\n",
       "      <th>ZD14</th>\n",
       "      <th>ZEB1</th>\n",
       "      <th>ZERG</th>\n",
       "      <th>ZP01</th>\n",
       "      <th>predict</th>\n",
       "      <th>prob_0</th>\n",
       "      <th>prob_1</th>\n",
       "    </tr>\n",
       "  </thead>\n",
       "  <tbody>\n",
       "    <tr>\n",
       "      <th>9815</th>\n",
       "      <td>BRL</td>\n",
       "      <td>4484</td>\n",
       "      <td>44233782</td>\n",
       "      <td>70</td>\n",
       "      <td>22093328</td>\n",
       "      <td>20200424</td>\n",
       "      <td>CAROLR</td>\n",
       "      <td>150655</td>\n",
       "      <td>ZPCN</td>\n",
       "      <td>57957.21</td>\n",
       "      <td>...</td>\n",
       "      <td>0.0</td>\n",
       "      <td>-30.0</td>\n",
       "      <td>-90.0</td>\n",
       "      <td>0.0</td>\n",
       "      <td>225.0</td>\n",
       "      <td>70.0</td>\n",
       "      <td>2806.0</td>\n",
       "      <td>1</td>\n",
       "      <td>0.0</td>\n",
       "      <td>1.0</td>\n",
       "    </tr>\n",
       "    <tr>\n",
       "      <th>29585</th>\n",
       "      <td>BRL</td>\n",
       "      <td>4425</td>\n",
       "      <td>44036957</td>\n",
       "      <td>10</td>\n",
       "      <td>22089907</td>\n",
       "      <td>20200407</td>\n",
       "      <td>LNEVES2</td>\n",
       "      <td>115608</td>\n",
       "      <td>ZPCN</td>\n",
       "      <td>2595.54</td>\n",
       "      <td>...</td>\n",
       "      <td>0.0</td>\n",
       "      <td>0.0</td>\n",
       "      <td>0.0</td>\n",
       "      <td>0.0</td>\n",
       "      <td>988.0</td>\n",
       "      <td>80.0</td>\n",
       "      <td>3078.0</td>\n",
       "      <td>1</td>\n",
       "      <td>0.0</td>\n",
       "      <td>1.0</td>\n",
       "    </tr>\n",
       "    <tr>\n",
       "      <th>3352</th>\n",
       "      <td>BRL</td>\n",
       "      <td>4471</td>\n",
       "      <td>44239844</td>\n",
       "      <td>50</td>\n",
       "      <td>8860283</td>\n",
       "      <td>20200425</td>\n",
       "      <td>RBTMC100GSH</td>\n",
       "      <td>73558</td>\n",
       "      <td>ZORB</td>\n",
       "      <td>2789.90</td>\n",
       "      <td>...</td>\n",
       "      <td>-478.0</td>\n",
       "      <td>0.0</td>\n",
       "      <td>-20.0</td>\n",
       "      <td>0.0</td>\n",
       "      <td>0.0</td>\n",
       "      <td>60.0</td>\n",
       "      <td>11050.0</td>\n",
       "      <td>1</td>\n",
       "      <td>0.0</td>\n",
       "      <td>1.0</td>\n",
       "    </tr>\n",
       "    <tr>\n",
       "      <th>24782</th>\n",
       "      <td>BRL</td>\n",
       "      <td>4435</td>\n",
       "      <td>44000717</td>\n",
       "      <td>20</td>\n",
       "      <td>22085963</td>\n",
       "      <td>20200403</td>\n",
       "      <td>DANI123</td>\n",
       "      <td>92128</td>\n",
       "      <td>ZPCN</td>\n",
       "      <td>3774.54</td>\n",
       "      <td>...</td>\n",
       "      <td>-404.0</td>\n",
       "      <td>0.0</td>\n",
       "      <td>-30.0</td>\n",
       "      <td>0.0</td>\n",
       "      <td>0.0</td>\n",
       "      <td>20.0</td>\n",
       "      <td>265.0</td>\n",
       "      <td>1</td>\n",
       "      <td>0.0</td>\n",
       "      <td>1.0</td>\n",
       "    </tr>\n",
       "    <tr>\n",
       "      <th>19444</th>\n",
       "      <td>BRL</td>\n",
       "      <td>4497</td>\n",
       "      <td>44254856</td>\n",
       "      <td>30</td>\n",
       "      <td>8859703</td>\n",
       "      <td>20200427</td>\n",
       "      <td>RBTMC100GSH</td>\n",
       "      <td>152324</td>\n",
       "      <td>ZORB</td>\n",
       "      <td>1373.83</td>\n",
       "      <td>...</td>\n",
       "      <td>-180.0</td>\n",
       "      <td>0.0</td>\n",
       "      <td>-30.0</td>\n",
       "      <td>0.0</td>\n",
       "      <td>0.0</td>\n",
       "      <td>0.0</td>\n",
       "      <td>54.0</td>\n",
       "      <td>1</td>\n",
       "      <td>0.0</td>\n",
       "      <td>1.0</td>\n",
       "    </tr>\n",
       "    <tr>\n",
       "      <th>...</th>\n",
       "      <td>...</td>\n",
       "      <td>...</td>\n",
       "      <td>...</td>\n",
       "      <td>...</td>\n",
       "      <td>...</td>\n",
       "      <td>...</td>\n",
       "      <td>...</td>\n",
       "      <td>...</td>\n",
       "      <td>...</td>\n",
       "      <td>...</td>\n",
       "      <td>...</td>\n",
       "      <td>...</td>\n",
       "      <td>...</td>\n",
       "      <td>...</td>\n",
       "      <td>...</td>\n",
       "      <td>...</td>\n",
       "      <td>...</td>\n",
       "      <td>...</td>\n",
       "      <td>...</td>\n",
       "      <td>...</td>\n",
       "      <td>...</td>\n",
       "    </tr>\n",
       "    <tr>\n",
       "      <th>13839</th>\n",
       "      <td>BRL</td>\n",
       "      <td>4420</td>\n",
       "      <td>44210825</td>\n",
       "      <td>10</td>\n",
       "      <td>22096627</td>\n",
       "      <td>20200423</td>\n",
       "      <td>EXSTEFSS</td>\n",
       "      <td>115035</td>\n",
       "      <td>ZPCN</td>\n",
       "      <td>1341.12</td>\n",
       "      <td>...</td>\n",
       "      <td>-240.0</td>\n",
       "      <td>-15.0</td>\n",
       "      <td>-20.0</td>\n",
       "      <td>0.0</td>\n",
       "      <td>0.0</td>\n",
       "      <td>100.0</td>\n",
       "      <td>4874.0</td>\n",
       "      <td>0</td>\n",
       "      <td>1.0</td>\n",
       "      <td>0.0</td>\n",
       "    </tr>\n",
       "    <tr>\n",
       "      <th>13840</th>\n",
       "      <td>BRL</td>\n",
       "      <td>4420</td>\n",
       "      <td>44210825</td>\n",
       "      <td>20</td>\n",
       "      <td>22096627</td>\n",
       "      <td>20200423</td>\n",
       "      <td>EXSTEFSS</td>\n",
       "      <td>115035</td>\n",
       "      <td>ZPCN</td>\n",
       "      <td>1341.12</td>\n",
       "      <td>...</td>\n",
       "      <td>-240.0</td>\n",
       "      <td>-15.0</td>\n",
       "      <td>-20.0</td>\n",
       "      <td>0.0</td>\n",
       "      <td>0.0</td>\n",
       "      <td>100.0</td>\n",
       "      <td>4874.0</td>\n",
       "      <td>0</td>\n",
       "      <td>1.0</td>\n",
       "      <td>0.0</td>\n",
       "    </tr>\n",
       "    <tr>\n",
       "      <th>13841</th>\n",
       "      <td>BRL</td>\n",
       "      <td>4420</td>\n",
       "      <td>44210825</td>\n",
       "      <td>30</td>\n",
       "      <td>22096627</td>\n",
       "      <td>20200423</td>\n",
       "      <td>EXSTEFSS</td>\n",
       "      <td>115035</td>\n",
       "      <td>ZPCN</td>\n",
       "      <td>1341.12</td>\n",
       "      <td>...</td>\n",
       "      <td>-180.0</td>\n",
       "      <td>-15.0</td>\n",
       "      <td>-20.0</td>\n",
       "      <td>0.0</td>\n",
       "      <td>0.0</td>\n",
       "      <td>100.0</td>\n",
       "      <td>6228.0</td>\n",
       "      <td>0</td>\n",
       "      <td>1.0</td>\n",
       "      <td>0.0</td>\n",
       "    </tr>\n",
       "    <tr>\n",
       "      <th>13842</th>\n",
       "      <td>BRL</td>\n",
       "      <td>4439</td>\n",
       "      <td>44210830</td>\n",
       "      <td>10</td>\n",
       "      <td>22096628</td>\n",
       "      <td>20200423</td>\n",
       "      <td>RP0100489491</td>\n",
       "      <td>115544</td>\n",
       "      <td>ZPCN</td>\n",
       "      <td>1338.76</td>\n",
       "      <td>...</td>\n",
       "      <td>-225.0</td>\n",
       "      <td>-15.0</td>\n",
       "      <td>-20.0</td>\n",
       "      <td>0.0</td>\n",
       "      <td>0.0</td>\n",
       "      <td>100.0</td>\n",
       "      <td>4653.0</td>\n",
       "      <td>0</td>\n",
       "      <td>1.0</td>\n",
       "      <td>0.0</td>\n",
       "    </tr>\n",
       "    <tr>\n",
       "      <th>41144</th>\n",
       "      <td>BRL</td>\n",
       "      <td>4435</td>\n",
       "      <td>44243571</td>\n",
       "      <td>110</td>\n",
       "      <td>8854225</td>\n",
       "      <td>20200426</td>\n",
       "      <td>RBTMC100GSH</td>\n",
       "      <td>105705</td>\n",
       "      <td>ZORB</td>\n",
       "      <td>3399.42</td>\n",
       "      <td>...</td>\n",
       "      <td>-351.0</td>\n",
       "      <td>0.0</td>\n",
       "      <td>-50.0</td>\n",
       "      <td>0.0</td>\n",
       "      <td>0.0</td>\n",
       "      <td>60.0</td>\n",
       "      <td>11979.0</td>\n",
       "      <td>0</td>\n",
       "      <td>1.0</td>\n",
       "      <td>0.0</td>\n",
       "    </tr>\n",
       "  </tbody>\n",
       "</table>\n",
       "<p>41145 rows × 43 columns</p>\n",
       "</div>"
      ],
      "text/plain": [
       "      EMPRESA  CENTRO      COND  ITMOV  ORDEM_VENDA  DATA_CADASTRO  \\\n",
       "9815      BRL    4484  44233782     70     22093328       20200424   \n",
       "29585     BRL    4425  44036957     10     22089907       20200407   \n",
       "3352      BRL    4471  44239844     50      8860283       20200425   \n",
       "24782     BRL    4435  44000717     20     22085963       20200403   \n",
       "19444     BRL    4497  44254856     30      8859703       20200427   \n",
       "...       ...     ...       ...    ...          ...            ...   \n",
       "13839     BRL    4420  44210825     10     22096627       20200423   \n",
       "13840     BRL    4420  44210825     20     22096627       20200423   \n",
       "13841     BRL    4420  44210825     30     22096627       20200423   \n",
       "13842     BRL    4439  44210830     10     22096628       20200423   \n",
       "41144     BRL    4435  44243571    110      8854225       20200426   \n",
       "\n",
       "      FAT_CRIADOPOR    HORA TIPO_OV   VAL_LIQ  ...   ZD03  ZD05  ZD13 ZD14  \\\n",
       "9815         CAROLR  150655    ZPCN  57957.21  ...    0.0 -30.0 -90.0  0.0   \n",
       "29585       LNEVES2  115608    ZPCN   2595.54  ...    0.0   0.0   0.0  0.0   \n",
       "3352    RBTMC100GSH   73558    ZORB   2789.90  ... -478.0   0.0 -20.0  0.0   \n",
       "24782       DANI123   92128    ZPCN   3774.54  ... -404.0   0.0 -30.0  0.0   \n",
       "19444   RBTMC100GSH  152324    ZORB   1373.83  ... -180.0   0.0 -30.0  0.0   \n",
       "...             ...     ...     ...       ...  ...    ...   ...   ...  ...   \n",
       "13839      EXSTEFSS  115035    ZPCN   1341.12  ... -240.0 -15.0 -20.0  0.0   \n",
       "13840      EXSTEFSS  115035    ZPCN   1341.12  ... -240.0 -15.0 -20.0  0.0   \n",
       "13841      EXSTEFSS  115035    ZPCN   1341.12  ... -180.0 -15.0 -20.0  0.0   \n",
       "13842  RP0100489491  115544    ZPCN   1338.76  ... -225.0 -15.0 -20.0  0.0   \n",
       "41144   RBTMC100GSH  105705    ZORB   3399.42  ... -351.0   0.0 -50.0  0.0   \n",
       "\n",
       "        ZEB1   ZERG     ZP01  predict  prob_0  prob_1  \n",
       "9815   225.0   70.0   2806.0        1     0.0     1.0  \n",
       "29585  988.0   80.0   3078.0        1     0.0     1.0  \n",
       "3352     0.0   60.0  11050.0        1     0.0     1.0  \n",
       "24782    0.0   20.0    265.0        1     0.0     1.0  \n",
       "19444    0.0    0.0     54.0        1     0.0     1.0  \n",
       "...      ...    ...      ...      ...     ...     ...  \n",
       "13839    0.0  100.0   4874.0        0     1.0     0.0  \n",
       "13840    0.0  100.0   4874.0        0     1.0     0.0  \n",
       "13841    0.0  100.0   6228.0        0     1.0     0.0  \n",
       "13842    0.0  100.0   4653.0        0     1.0     0.0  \n",
       "41144    0.0   60.0  11979.0        0     1.0     0.0  \n",
       "\n",
       "[41145 rows x 43 columns]"
      ]
     },
     "execution_count": 812,
     "metadata": {},
     "output_type": "execute_result"
    }
   ],
   "source": [
    "#base_carteira_rentab ordenado pela probabilidade de ser 1\n",
    "base_carteira_rentab.sort_values(by=['prob_1'], ascending=False)"
   ]
  },
  {
   "cell_type": "markdown",
   "metadata": {},
   "source": [
    "### 4. Exportando Resultados"
   ]
  },
  {
   "cell_type": "code",
   "execution_count": 10,
   "metadata": {},
   "outputs": [],
   "source": [
    "# exportando resultados\n",
    "base_carteira_rentab.to_csv(\"bases/bases_predict/base_vendas_abril_predict.csv\", index=False)"
   ]
  },
  {
   "cell_type": "code",
   "execution_count": null,
   "metadata": {},
   "outputs": [],
   "source": []
  },
  {
   "cell_type": "code",
   "execution_count": null,
   "metadata": {},
   "outputs": [],
   "source": []
  },
  {
   "cell_type": "markdown",
   "metadata": {},
   "source": [
    "### 5. Funcao de Similaridade"
   ]
  },
  {
   "cell_type": "markdown",
   "metadata": {},
   "source": [
    "#### 5.1 Importando Base Histórica de Vendas (base de treino do modelo de rentabilidade)"
   ]
  },
  {
   "cell_type": "code",
   "execution_count": 813,
   "metadata": {},
   "outputs": [],
   "source": [
    "## IMPORTANDO BASE HISTORICA\n",
    "base_treino_historica = pd.read_csv(\"bases/base_rentabilidade_modelagem4.csv\")\n",
    "\n",
    "\n",
    "## REMOVENDO COLUNAS NAO NECESSARIAS\n",
    "base_treino_historica = base_treino_historica.rename(columns={'Unnamed: 0':\"index\"})\n",
    "base_treino_historica = base_treino_historica.drop(columns=[\"index\"])\n",
    "base_treino_historica = base_treino_historica.fillna(0)\n",
    "\n",
    "\n",
    "base_treino_historica['COND'] = base_treino_historica['COND'].astype('int')\n",
    "base_treino_historica['ITMOV'] = base_treino_historica['ITMOV'].astype('int')\n",
    "\n",
    "base_treino_historica['COND'] = base_treino_historica['COND'].astype('str')\n",
    "base_treino_historica['ITMOV'] = base_treino_historica['ITMOV'].astype('str')\n",
    "\n",
    "base_treino_historica['PKEY'] = base_treino_historica['COND'] + \"-\" + base_treino_historica['ITMOV'] \n",
    "\n",
    "## CRIANDO BASE COM DESCONTOS E TARGET\n",
    "df_treino = base_treino_historica[['PKEY', 'COND', 'ITMOV', 'ORDEM_VENDA', 'LUCRO_BRUTO', 'DATA', 'CENTRO', 'MATERIAL', 'VALOR_LIQ', 'ZD01', 'ZD02', 'ZD03', 'ZD05', 'ZD13', 'ZD14', 'ZEB1', 'ZERG', 'ZP01', 'TARGET']]\n",
    "\n",
    "## APENAS VENDAS COM RENTABILIDADE NEGATIVA\n",
    "base_rentab_neg = df_treino[df_treino['TARGET'] == 1]\n",
    "\n",
    "base_historica_filtrada = base_rentab_neg"
   ]
  },
  {
   "cell_type": "markdown",
   "metadata": {},
   "source": [
    "#### 5.2 Base de Vendas (base predict do modelo de rentabilidade)"
   ]
  },
  {
   "cell_type": "code",
   "execution_count": 791,
   "metadata": {
    "jupyter": {
     "source_hidden": true
    }
   },
   "outputs": [
    {
     "data": {
      "text/plain": [
       "(159946, 42)"
      ]
     },
     "execution_count": 791,
     "metadata": {},
     "output_type": "execute_result"
    }
   ],
   "source": [
    "base_vendas_abril = pd.read_csv(\"bases/bases_predict/base_vendas_abril_predict.csv\")\n",
    "\n",
    "base_carteira_rentab = base_vendas_abril"
   ]
  },
  {
   "cell_type": "code",
   "execution_count": 814,
   "metadata": {},
   "outputs": [],
   "source": [
    "base_carteira_rentab['COND'] = base_carteira_rentab['COND'].astype('int')\n",
    "base_carteira_rentab['ITMOV'] = base_carteira_rentab['ITMOV'].astype('int')\n",
    "\n",
    "base_carteira_rentab['COND'] = base_carteira_rentab['COND'].astype('str')\n",
    "base_carteira_rentab['ITMOV'] = base_carteira_rentab['ITMOV'].astype('str')\n",
    "\n",
    "\n",
    "base_carteira_rentab['PKEY'] = base_carteira_rentab['COND'] + \"-\" + base_carteira_rentab['ITMOV'] \n",
    "\n",
    "base_carteira_rentab = base_carteira_rentab[['PKEY', 'COND', 'ITMOV', 'CENTRO', 'MATERIAL', 'VAL_LIQ', 'ZD01', 'ZD02', 'ZD03', 'ZD05', 'ZD13', 'ZD14', 'ZEB1', 'ZERG', 'ZP01', 'predict']]\n",
    "\n",
    "\n",
    "base_predict_rentab_neg = base_carteira_rentab[base_carteira_rentab['predict'] == 1]\n",
    "\n",
    "base_predict = base_predict_rentab_neg\n"
   ]
  },
  {
   "cell_type": "markdown",
   "metadata": {},
   "source": [
    "#### 5.3 Modelo de Similaridade - Distancia Euclidiana"
   ]
  },
  {
   "cell_type": "code",
   "execution_count": 815,
   "metadata": {},
   "outputs": [],
   "source": [
    "import scipy\n",
    "\n",
    "#funcao que retorna top 5 vendas similares\n",
    "def get_vendas_similares(venda, base_venda, n):\n",
    "    #total de vendas as serem retornadas\n",
    "    total_vendas = n\n",
    "    \n",
    "    #funcao que calcula distancia euclidiana\n",
    "    result = scipy.spatial.distance.cdist(venda.iloc[0:,3:], base_venda.iloc[0:,6:], metric='euclidean')\n",
    "    #transforma result em data frame\n",
    "    df_result = pd.DataFrame(result, index=['percet_similaridade'])\n",
    "    #transposta\n",
    "    df_result = df_result.T\n",
    "    #ordena o resultado pelo indice de similaridade\n",
    "    df_result = df_result.sort_values(by='percet_similaridade', ascending=True)\n",
    "    #filtrando similaridade com a propria venda\n",
    "    df_result = df_result[df_result['percet_similaridade'] > 0]\n",
    "    \n",
    "    #top X vendas\n",
    "    df_result = df_result.head(total_vendas)\n",
    "    #lista de index\n",
    "    index = df_result.index\n",
    "    #retorna base de vendas pelo index\n",
    "    vendas_similares = base_venda.iloc[index,:]\n",
    "    \n",
    "    return(vendas_similares)\n",
    "\n",
    "\n",
    "# funcao que retorna lista de indíces \n",
    "def get_index_similares(venda, base_vendas, n):\n",
    "    #filtrar centro\n",
    "    base_vendas_filtrada = base_vendas[base_vendas['CENTRO'] == venda.CENTRO[venda.CENTRO.index[0]]]\n",
    "    #filtrar material\n",
    "    base_vendas_filtrada = base_vendas_filtrada[base_vendas_filtrada['MATERIAL'] == venda.MATERIAL[venda.MATERIAL.index[0]]]\n",
    "    \n",
    "    # calcula vendas similares pelo centro e material\n",
    "    vendas_similares = get_vendas_similares(venda, base_vendas_filtrada, n)\n",
    "    \n",
    "    # calcula vendas similares apenas pelo centro\n",
    "    if (len(vendas_similares) < 5): \n",
    "        #filtrar centro\n",
    "        base_vendas_filtrada_centro = base_vendas[base_vendas['CENTRO'] == venda.CENTRO[venda.CENTRO.index[0]]]\n",
    "        vendas_similares = get_vendas_similares(venda, base_vendas_filtrada_centro, n)\n",
    "\n",
    "    #adiciona vendas similares em uma coluna da venda\n",
    "    return(vendas_similares)"
   ]
  },
  {
   "cell_type": "markdown",
   "metadata": {},
   "source": [
    "#### 5.4 Criando Base de Vendas Similares"
   ]
  },
  {
   "cell_type": "code",
   "execution_count": 816,
   "metadata": {},
   "outputs": [],
   "source": [
    "## criando dataframe final vazio\n",
    "colunas = ['PKEY', 'COND', 'ITMOV', 'ORDEM_VENDA', 'LUCRO_BRUTO', 'DATA', 'CENTRO', 'MATERIAL', 'VALOR_LIQ', 'ZD01', 'ZD02', 'ZD03', 'ZD05', 'ZD13', 'ZD14', 'ZEB1', 'ZERG', 'ZP01', 'TARGET']\n",
    "df_result_vendas_similares_final = pd.DataFrame(columns = colunas)\n",
    "\n",
    "## CODIGO PARA GERAR A BASE DE VENDAS SIMILARES - INDEXADA PELA PKEY (COND + ITMOV)\n",
    "\n",
    "for i in range(len(base_predict.iloc[0:,:])):\n",
    "    #venda principal\n",
    "    venda = base_predict.iloc[[i]]\n",
    "    #lista das vendas similares a venda principal\n",
    "    vendas_similares = get_index_similares(venda, base_historica_filtrada, 5)\n",
    "    #atualiza coluna PKEY para vendas similares\n",
    "    vendas_similares['PKEY'] = venda.PKEY[venda.PKEY.index[0]]\n",
    "\n",
    "    \n",
    "    df_result_vendas_similares_final = pd.concat([df_result_vendas_similares_final, vendas_similares])\n",
    "    "
   ]
  },
  {
   "cell_type": "code",
   "execution_count": 819,
   "metadata": {},
   "outputs": [],
   "source": [
    "#exportando resutados\n",
    "df_result_vendas_similares_final.to_csv(\"bases/bases_predict/base_vendas_teste_pbi.csv\", index=False)"
   ]
  },
  {
   "cell_type": "code",
   "execution_count": 817,
   "metadata": {},
   "outputs": [
    {
     "data": {
      "text/plain": [
       "((3780, 19), (756, 16))"
      ]
     },
     "execution_count": 817,
     "metadata": {},
     "output_type": "execute_result"
    }
   ],
   "source": [
    "df_result_vendas_similares_final.shape, base_predict.shape"
   ]
  },
  {
   "cell_type": "code",
   "execution_count": null,
   "metadata": {},
   "outputs": [],
   "source": []
  },
  {
   "cell_type": "code",
   "execution_count": null,
   "metadata": {},
   "outputs": [],
   "source": []
  },
  {
   "cell_type": "code",
   "execution_count": null,
   "metadata": {},
   "outputs": [],
   "source": []
  }
 ],
 "metadata": {
  "kernelspec": {
   "display_name": "Python 3",
   "language": "python",
   "name": "python3"
  },
  "language_info": {
   "codemirror_mode": {
    "name": "ipython",
    "version": 3
   },
   "file_extension": ".py",
   "mimetype": "text/x-python",
   "name": "python",
   "nbconvert_exporter": "python",
   "pygments_lexer": "ipython3",
   "version": "3.7.6"
  }
 },
 "nbformat": 4,
 "nbformat_minor": 4
}
